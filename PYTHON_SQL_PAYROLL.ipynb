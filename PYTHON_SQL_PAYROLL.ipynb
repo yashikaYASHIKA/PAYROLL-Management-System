{
  "nbformat": 4,
  "nbformat_minor": 0,
  "metadata": {
    "colab": {
      "provenance": [],
      "authorship_tag": "ABX9TyNRjtNElx5o/xGL1FruuvJY",
      "include_colab_link": true
    },
    "kernelspec": {
      "name": "python3",
      "display_name": "Python 3"
    },
    "language_info": {
      "name": "python"
    }
  },
  "cells": [
    {
      "cell_type": "markdown",
      "metadata": {
        "id": "view-in-github",
        "colab_type": "text"
      },
      "source": [
        "<a href=\"https://colab.research.google.com/github/yashikaYASHIKA/PAYROLL-Management-System/blob/main/PYTHON_SQL_PAYROLL.ipynb\" target=\"_parent\"><img src=\"https://colab.research.google.com/assets/colab-badge.svg\" alt=\"Open In Colab\"/></a>"
      ]
    },
    {
      "cell_type": "code",
      "execution_count": null,
      "metadata": {
        "colab": {
          "base_uri": "https://localhost:8080/"
        },
        "id": "yh1pgB8sH_0D",
        "outputId": "36822f43-efe7-4fff-cb61-70496fd95738"
      },
      "outputs": [
        {
          "output_type": "stream",
          "name": "stdout",
          "text": [
            "Employee: Alice, Net Salary: ₹45000.0\n"
          ]
        }
      ],
      "source": [
        "# PAYROLL MANAGEMENT SYSTEM\n",
        "import sqlite3\n",
        "\n",
        "# Connect to DB\n",
        "conn = sqlite3.connect('payroll.db')\n",
        "cursor = conn.cursor()\n",
        "\n",
        "# Create table\n",
        "cursor.execute('''\n",
        "CREATE TABLE IF NOT EXISTS employees (\n",
        "    emp_id INTEGER PRIMARY KEY,\n",
        "    name TEXT,\n",
        "    basic_salary REAL\n",
        ")\n",
        "''')\n",
        "\n",
        "# Insert sample data\n",
        "cursor.execute(\"INSERT INTO employees (name, basic_salary) VALUES (?, ?)\", ('Alice', 50000))\n",
        "conn.commit()\n",
        "\n",
        "# Salary calculation\n",
        "def calculate_salary(emp_id):\n",
        "    cursor.execute(\"SELECT name, basic_salary FROM employees WHERE emp_id=?\", (emp_id,))\n",
        "    row = cursor.fetchone()\n",
        "    if row:\n",
        "        tax = row[1] * 0.1\n",
        "        net_salary = row[1] - tax\n",
        "        print(f\"Employee: {row[0]}, Net Salary: ₹{net_salary}\")\n",
        "    else:\n",
        "        print(\"Employee not found.\")\n",
        "\n",
        "calculate_salary(1)\n",
        "conn.close()\n"
      ]
    }
  ]
}